{
  "cells": [
    {
      "attachments": {},
      "cell_type": "markdown",
      "metadata": {
        "colab_type": "text",
        "id": "view-in-github"
      },
      "source": [
        "<a href=\"https://colab.research.google.com/github/jacob-m-nash/Fire-Detector/blob/main/src/train.ipynb\" target=\"_parent\"><img src=\"https://colab.research.google.com/assets/colab-badge.svg\" alt=\"Open In Colab\"/></a>"
      ]
    },
    {
      "attachments": {},
      "cell_type": "markdown",
      "metadata": {
        "id": "cRbZCnUQVMO6"
      },
      "source": [
        "## FireNet YOLOv5 custom data set training\n",
        "\n",
        "Adapted from https://blog.paperspace.com/train-yolov5-custom-data/#convert-the-annotations-into-the-yolo-v5-format"
      ]
    },
    {
      "attachments": {},
      "cell_type": "markdown",
      "metadata": {
        "id": "_xoePXPZVMO8"
      },
      "source": [
        "## Set up for YOLO training"
      ]
    },
    {
      "cell_type": "code",
      "execution_count": null,
      "metadata": {
        "colab": {
          "base_uri": "https://localhost:8080/"
        },
        "id": "WY_EdVwpVMO-",
        "outputId": "b8d28c4e-c36d-462b-a8e6-20b3bf2a4bc0"
      },
      "outputs": [],
      "source": [
        "yolo_version = \"yolov5\"\n",
        "!git clone https://github.com/ultralytics/yolov5"
      ]
    },
    {
      "cell_type": "code",
      "execution_count": null,
      "metadata": {
        "colab": {
          "base_uri": "https://localhost:8080/"
        },
        "id": "DilvA4lEVMPB",
        "outputId": "a8213524-1b85-4e97-a967-4132a733daf7"
      },
      "outputs": [],
      "source": [
        "!pip install -r yolov5/requirements.txt"
      ]
    },
    {
      "cell_type": "code",
      "execution_count": null,
      "metadata": {
        "id": "S_A0cyMHVMPD"
      },
      "outputs": [],
      "source": [
        "#import torch\n",
        "from IPython.display import Image  # for displaying images\n",
        "import os \n",
        "import random\n",
        "import shutil\n",
        "from sklearn.model_selection import train_test_split\n",
        "import xml.etree.ElementTree as ET\n",
        "#from xml.dom import minidom\n",
        "from tqdm import tqdm\n",
        "from PIL import Image, ImageDraw\n",
        "import numpy as np\n",
        "import matplotlib.pyplot as plt\n",
        "import distutils.dir_util\n",
        "import yaml\n",
        "import csv\n",
        "#from google.colab import files\n",
        "\n",
        "random.seed(108)"
      ]
    },
    {
      "attachments": {},
      "cell_type": "markdown",
      "metadata": {
        "id": "749tw59A2Sr0"
      },
      "source": [
        "## Setup file paths "
      ]
    },
    {
      "cell_type": "code",
      "execution_count": null,
      "metadata": {
        "id": "pIRWQ9d3WZHJ"
      },
      "outputs": [],
      "source": [
        "src_path = os.getcwd()\n",
        "base_path, _ = os.path.split(src_path)\n",
        "data_filename = \"FireNet.zip\"\n",
        "data_path = os.path.join(base_path,\"data\")\n",
        "annotations_path = os.path.join(data_path,\"FireNet_ObjectDetection\")\n",
        "images_path = os.path.join(data_path,\"FireNet_Images\")"
      ]
    },
    {
      "attachments": {},
      "cell_type": "markdown",
      "metadata": {
        "id": "eyRTJhctdm0E"
      },
      "source": [
        "## Donload and unzip data"
      ]
    },
    {
      "cell_type": "code",
      "execution_count": null,
      "metadata": {
        "colab": {
          "base_uri": "https://localhost:8080/"
        },
        "id": "MGdhcEYrdsMg",
        "outputId": "187ecd3d-2d7b-4651-aeef-f5c68723630c"
      },
      "outputs": [],
      "source": [
        "if not os.path.exists(data_path):\n",
        "    os.makedirs(data_path)\n",
        "    !wget --content-disposition -nc https://rdr.ucl.ac.uk/ndownloader/articles/9137798/versions/1 -O \"$data_filename\"\n",
        "    !unzip \"$data_filename\"\n",
        "    !unzip -q /content/FireNet_Images.zip  -d  \"$images_path\"\n",
        "    !unzip -q /content/FireNet_ObjectDetection.zip -d  \"$annotations_path\""
      ]
    },
    {
      "attachments": {},
      "cell_type": "markdown",
      "metadata": {
        "id": "JFY_HeWXVMPE"
      },
      "source": [
        "## Convert the Annotations into the YOLO v5 Format"
      ]
    },
    {
      "cell_type": "code",
      "execution_count": null,
      "metadata": {
        "id": "K6kynVAsVMPF"
      },
      "outputs": [],
      "source": [
        "# Function to get the data from XML Annotation\n",
        "def extract_info_from_xml(xml_file):\n",
        "    root = ET.parse(xml_file).getroot()\n",
        "    \n",
        "    # Initialise the info dict \n",
        "    info_dict = {}\n",
        "    info_dict['bboxes'] = []\n",
        "\n",
        "    # Parse the XML Tree\n",
        "    for elem in root:\n",
        "        # Get the file name \n",
        "        if elem.tag == \"filename\":\n",
        "            info_dict['filename'] = elem.text\n",
        "            \n",
        "        # Get the image size\n",
        "        elif elem.tag == \"size\":\n",
        "            image_size = []\n",
        "            for subelem in elem:\n",
        "                image_size.append(int(subelem.text))\n",
        "            \n",
        "            info_dict['image_size'] = tuple(image_size)\n",
        "        \n",
        "        # Get details of the bounding box \n",
        "        elif elem.tag == \"object\":\n",
        "            bbox = {}\n",
        "            for subelem in elem:\n",
        "                if subelem.tag == \"name\":\n",
        "                    bbox[\"class\"] = subelem.text\n",
        "                    \n",
        "                elif subelem.tag == \"bndbox\":\n",
        "                    for subsubelem in subelem:\n",
        "                        bbox[subsubelem.tag] = int(subsubelem.text)            \n",
        "            info_dict['bboxes'].append(bbox)\n",
        "    \n",
        "    return info_dict"
      ]
    },
    {
      "cell_type": "code",
      "execution_count": null,
      "metadata": {
        "colab": {
          "base_uri": "https://localhost:8080/"
        },
        "id": "d1dT6YBsVMPH",
        "outputId": "fe57ecbf-dd28-4154-ce37-e550f8dc9708"
      },
      "outputs": [],
      "source": [
        "labels_file = os.path.join(data_path, \"FireNet_labels.csv\")\n",
        "with open(labels_file, mode='r') as in_file:\n",
        "    reader = csv.reader(in_file)\n",
        "    next(reader) # Skipping header \n",
        "    class_name_to_id_mapping = {rows[1]:(int(rows[0])-1) for rows in reader}\n",
        "print(class_name_to_id_mapping)"
      ]
    },
    {
      "cell_type": "code",
      "execution_count": null,
      "metadata": {
        "id": "7oR43NBIVMPH"
      },
      "outputs": [],
      "source": [
        "# Convert the info dict to the required yolo format and write it to disk\n",
        "def convert_to_yolov5(info_dict):\n",
        "    print_buffer = []\n",
        "    \n",
        "    # For each bounding box\n",
        "    for b in info_dict[\"bboxes\"]:\n",
        "        try:\n",
        "            class_id = class_name_to_id_mapping[b[\"class\"]]\n",
        "        except KeyError:\n",
        "            print(\"Invalid Class. Must be one from \", class_name_to_id_mapping.keys())\n",
        "        \n",
        "        # Transform the bbox co-ordinates as per the format required by YOLO v5\n",
        "        b_center_x = (b[\"xmin\"] + b[\"xmax\"]) / 2 \n",
        "        b_center_y = (b[\"ymin\"] + b[\"ymax\"]) / 2\n",
        "        b_width    = (b[\"xmax\"] - b[\"xmin\"])\n",
        "        b_height   = (b[\"ymax\"] - b[\"ymin\"])\n",
        "        \n",
        "        # Normalise the co-ordinates by the dimensions of the image\n",
        "        image_w, image_h, image_c = info_dict[\"image_size\"]  \n",
        "        b_center_x /= image_w \n",
        "        b_center_y /= image_h \n",
        "        b_width    /= image_w \n",
        "        b_height   /= image_h \n",
        "        \n",
        "        #Write the bbox details to the file \n",
        "        print_buffer.append(\"{} {:.3f} {:.3f} {:.3f} {:.3f}\".format(class_id, b_center_x, b_center_y, b_width, b_height))\n",
        "    \n",
        "    # Name of the file which we have to save \n",
        "    save_file_name = os.path.join(annotations_path, info_dict[\"filename\"].replace(\"jpg\", \"txt\"))\n",
        "    # Save the annotation to disk\n",
        "    print(\"\\n\".join(print_buffer), file= open(save_file_name, \"w\"))"
      ]
    },
    {
      "cell_type": "code",
      "execution_count": null,
      "metadata": {
        "colab": {
          "base_uri": "https://localhost:8080/"
        },
        "id": "xWYhWaatVMPJ",
        "outputId": "3454f8a9-91fe-4f44-f96f-4e2a8ace1db1"
      },
      "outputs": [],
      "source": [
        "# Get the annotations\n",
        "annotations = [os.path.join(annotations_path, x) for x in os.listdir(annotations_path) if x[-3:] == \"xml\"]\n",
        "annotations.sort()\n",
        "\n",
        "# Convert and save the annotations\n",
        "for ann in tqdm(annotations):\n",
        "    info_dict = extract_info_from_xml(ann)\n",
        "    convert_to_yolov5(info_dict)\n",
        "annotations = [os.path.join(annotations_path, x) for x in os.listdir(annotations_path) if x[-3:] == \"txt\"]"
      ]
    },
    {
      "cell_type": "code",
      "execution_count": null,
      "metadata": {
        "id": "RUWj-1o3VMPJ"
      },
      "outputs": [],
      "source": [
        "def plot_bounding_box(image, annotation_list,class_id_to_name_mapping):\n",
        "    annotations = np.array(annotation_list)\n",
        "    w, h = image.size\n",
        "    \n",
        "    plotted_image = ImageDraw.Draw(image)\n",
        "\n",
        "    transformed_annotations = np.copy(annotations)\n",
        "    transformed_annotations[:,[1,3]] = annotations[:,[1,3]] * w\n",
        "    transformed_annotations[:,[2,4]] = annotations[:,[2,4]] * h \n",
        "    \n",
        "    transformed_annotations[:,1] = transformed_annotations[:,1] - (transformed_annotations[:,3] / 2)\n",
        "    transformed_annotations[:,2] = transformed_annotations[:,2] - (transformed_annotations[:,4] / 2)\n",
        "    transformed_annotations[:,3] = transformed_annotations[:,1] + transformed_annotations[:,3]\n",
        "    transformed_annotations[:,4] = transformed_annotations[:,2] + transformed_annotations[:,4]\n",
        "    \n",
        "    for ann in transformed_annotations:\n",
        "        obj_cls, x0, y0, x1, y1 = ann\n",
        "        plotted_image.rectangle(((x0,y0), (x1,y1)),outline =\"green\")\n",
        "        \n",
        "        plotted_image.text((x0, y0 - 10), class_id_to_name_mapping[obj_cls],fill=\"green\")\n",
        "    \n",
        "    plt.imshow(np.array(image))\n",
        "    plt.show()\n"
      ]
    },
    {
      "attachments": {},
      "cell_type": "markdown",
      "metadata": {
        "id": "mjns1c7YVMPK"
      },
      "source": [
        "### Testing the annotations"
      ]
    },
    {
      "cell_type": "code",
      "execution_count": null,
      "metadata": {
        "colab": {
          "base_uri": "https://localhost:8080/",
          "height": 435
        },
        "id": "tYLcg1cwVMPK",
        "outputId": "5a34282c-8706-4101-e90e-bc94c18861e8"
      },
      "outputs": [],
      "source": [
        "random.seed(32)\n",
        "\n",
        "class_id_to_name_mapping = dict(zip(class_name_to_id_mapping.values(), class_name_to_id_mapping.keys()))\n",
        "# Get any random annotation file \n",
        "annotation_file = random.choice(annotations)\n",
        "with open(annotation_file, \"r\") as file:\n",
        "    annotation_list = file.read().split(\"\\n\")[:-1]\n",
        "    annotation_list = [x.split(\" \") for x in annotation_list]\n",
        "    annotation_list = [[float(y) for y in x ] for x in annotation_list]\n",
        "\n",
        "\n",
        "#Get the corresponding image file\n",
        "image_file = annotation_file.replace(\"FireNet_ObjectDetection\", \"FireNet_Images\").replace(\"txt\", \"jpg\")\n",
        "assert os.path.exists(image_file)\n",
        "#Load the image\n",
        "image = Image.open(image_file)\n",
        "\n",
        "#Plot the Bounding Box\n",
        "plot_bounding_box(image, annotation_list,class_id_to_name_mapping)"
      ]
    },
    {
      "attachments": {},
      "cell_type": "markdown",
      "metadata": {
        "id": "ZPrXWuBNVMPL"
      },
      "source": [
        "## Partition the Dataset"
      ]
    },
    {
      "cell_type": "code",
      "execution_count": null,
      "metadata": {
        "id": "8jI_YkPGVMPM"
      },
      "outputs": [],
      "source": [
        "# Read images and annotations\n",
        "images = [os.path.join(images_path, x) for x in os.listdir(images_path)]\n",
        "annotations = [os.path.join(annotations_path, x) for x in os.listdir(annotations_path) if x[-3:] == \"txt\"]\n",
        "\n",
        "images.sort()\n",
        "annotations.sort()\n",
        "\n",
        "# Split the dataset into train-valid-test splits \n",
        "train_images, val_images, train_annotations, val_annotations = train_test_split(images, annotations, test_size = 0.2, random_state = 1)\n",
        "val_images, test_images, val_annotations, test_annotations = train_test_split(val_images, val_annotations, test_size = 0.5, random_state = 1)"
      ]
    },
    {
      "cell_type": "code",
      "execution_count": null,
      "metadata": {
        "id": "AS7aKP91VMPM"
      },
      "outputs": [],
      "source": [
        "#Utility function to copy images \n",
        "def copy_files_to_folder(list_of_files, destination_folder):\n",
        "    for f in list_of_files:\n",
        "        try:\n",
        "            shutil.copy(f, destination_folder)\n",
        "        except:\n",
        "            print(f)\n",
        "            assert False"
      ]
    },
    {
      "cell_type": "code",
      "execution_count": null,
      "metadata": {
        "id": "aUIDaCpuVMPM"
      },
      "outputs": [],
      "source": [
        "# Copy the splits into their folders\n",
        "images_folder = os.path.join(data_path, \"images\")\n",
        "labels_folder = os.path.join(data_path, \"labels\")\n",
        "\n",
        "train_images_folder = os.path.join(images_folder, \"train\")\n",
        "os.makedirs(train_images_folder, exist_ok=True)\n",
        "copy_files_to_folder(train_images, train_images_folder)\n",
        "\n",
        "val_images_folder = os.path.join(images_folder, \"val\")\n",
        "os.makedirs(val_images_folder, exist_ok=True)\n",
        "copy_files_to_folder(val_images, val_images_folder)\n",
        "\n",
        "test_images_folder = os.path.join(images_folder, \"test\")\n",
        "os.makedirs(test_images_folder, exist_ok=True)\n",
        "copy_files_to_folder(test_images, test_images_folder)\n",
        "\n",
        "train_labels_folder = os.path.join(labels_folder, \"train\")\n",
        "os.makedirs(train_labels_folder, exist_ok=True)\n",
        "copy_files_to_folder(train_annotations, train_labels_folder)\n",
        "\n",
        "val_labels_folder = os.path.join(labels_folder, \"val\")\n",
        "os.makedirs(val_labels_folder, exist_ok=True)\n",
        "copy_files_to_folder(val_annotations, val_labels_folder)\n",
        "\n",
        "test_labels_folder = os.path.join(labels_folder, \"test\")\n",
        "os.makedirs(test_labels_folder, exist_ok=True)\n",
        "copy_files_to_folder(test_annotations, test_labels_folder)"
      ]
    },
    {
      "attachments": {},
      "cell_type": "markdown",
      "metadata": {
        "id": "OyDSbykoVMPM"
      },
      "source": [
        "## Create and Copy Config File "
      ]
    },
    {
      "cell_type": "code",
      "execution_count": null,
      "metadata": {
        "id": "cmlemn_dmCVu"
      },
      "outputs": [],
      "source": [
        "config_file_dict = {\"train\": train_images_folder, \"val\": val_images_folder, \"test\": test_images_folder , \"nc\":len(class_name_to_id_mapping), \"names\":list(class_name_to_id_mapping.keys())}\n",
        "with open('Fire_Detector.yaml', 'w') as outfile:\n",
        "  yaml_string=yaml.dump(config_file_dict, outfile)\n",
        "shutil.copy(\"Fire_Detector.yaml\", \"yolov5/data\") "
      ]
    },
    {
      "attachments": {},
      "cell_type": "markdown",
      "metadata": {},
      "source": [
        "# Generate run output name"
      ]
    },
    {
      "cell_type": "code",
      "execution_count": null,
      "metadata": {},
      "outputs": [],
      "source": [
        "# Taken from https://stackoverflow.com/questions/57751402/increment-directory-name-if-it-already-exists\n",
        "def generateDirectoryName(name, x=0):\n",
        "    dir_name = (name + (str(x) if x is not 0 else '')).strip()\n",
        "    if not os.path.exists(dir_name):\n",
        "        return dir_name\n",
        "    else:\n",
        "        return generateDirectoryName(name, x + 1)\n",
        "    \n",
        "run_name = \"yolo_fire_detector\"\n",
        "run_folder = os.path.join(src_path, yolo_version,\"runs\",\"train\",run_name)\n",
        "run_folder = generateDirectoryName(run_folder) # Checking if clash of existing folder name  \n",
        "run_name = os.path.basename(os.path.normpath(run_folder)) # Updating run name if clash"
      ]
    },
    {
      "attachments": {},
      "cell_type": "markdown",
      "metadata": {
        "id": "N5Fhc0fZVMPN"
      },
      "source": [
        "## Train the Model"
      ]
    },
    {
      "cell_type": "code",
      "execution_count": null,
      "metadata": {
        "colab": {
          "base_uri": "https://localhost:8080/"
        },
        "id": "ZUfEJKCEVMPN",
        "outputId": "ad6d7d06-8123-4993-b2a9-d77e872de498"
      },
      "outputs": [],
      "source": [
        "!python yolov5/train.py --img 640 --cfg yolov5s.yaml --hyp hyp.scratch-low.yaml --batch 8 --epochs 100 --data Fire_Detector.yaml --weights yolov5s.pt --workers 1 --name \"$run_name\""
      ]
    },
    {
      "attachments": {},
      "cell_type": "markdown",
      "metadata": {
        "id": "LdTRpRWFHWtu"
      },
      "source": [
        "## Copy Run Output and Save"
      ]
    },
    {
      "cell_type": "code",
      "execution_count": null,
      "metadata": {
        "id": "T-3NrrFkVMPO"
      },
      "outputs": [],
      "source": [
        "run_dest_folder = os.path.join(data_path,\"runs\",yolo_version,run_name)\n",
        "distutils.dir_util.copy_tree(\"yolov5/runs/train/yolo_fire_detector\", run_dest_folder)"
      ]
    }
  ],
  "metadata": {
    "colab": {
      "include_colab_link": true,
      "provenance": []
    },
    "kernelspec": {
      "display_name": "Python 3",
      "language": "python",
      "name": "python3"
    },
    "language_info": {
      "codemirror_mode": {
        "name": "ipython",
        "version": 3
      },
      "file_extension": ".py",
      "mimetype": "text/x-python",
      "name": "python",
      "nbconvert_exporter": "python",
      "pygments_lexer": "ipython3",
      "version": "3.7.16"
    },
    "orig_nbformat": 4,
    "vscode": {
      "interpreter": {
        "hash": "5f4ba07150852e74fa74847117914c0a19f8ec002575f8d4b1c0a9de9f55c374"
      }
    }
  },
  "nbformat": 4,
  "nbformat_minor": 0
}
